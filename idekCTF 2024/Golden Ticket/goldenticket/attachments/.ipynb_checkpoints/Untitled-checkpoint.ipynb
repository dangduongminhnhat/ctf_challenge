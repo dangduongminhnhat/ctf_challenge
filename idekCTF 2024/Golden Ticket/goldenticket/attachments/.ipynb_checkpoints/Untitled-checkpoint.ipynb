{
 "cells": [
  {
   "cell_type": "code",
   "execution_count": 3,
   "metadata": {},
   "outputs": [
    {
     "name": "stdout",
     "output_type": "stream",
     "text": [
      "57629776445896163024735745086814515288454966100802334039751672315837361336412607584713634047210889597\n"
     ]
    }
   ],
   "source": [
    "from Crypto.Util.number import *\n",
    "\n",
    "\n",
    "remain = [88952575866827947965983024351948428571644045481852955585307229868427303211803239917835211249629755846575548754617810635567272526061976590304647326424871380247801316189016325247, 67077340815509559968966395605991498895734870241569147039932716484176494534953008553337442440573747593113271897771706973941604973691227887232994456813209749283078720189994152242]\n",
    "p = 396430433566694153228963024068183195900644000015629930982017434859080008533624204265038366113052353086248115602503012179807206251960510130759852727353283868788493357310003786807\n",
    "x_1_37 = (remain[1] - 13 * remain[0]) * inverse(24, p) % p\n",
    "x_37 = x_1_37 * 37 % p\n",
    "x_13 = (remain[1] - x_37) % p\n",
    "\n",
    "a = Mod(x_13, p)\n",
    "b = Mod(13, p)\n",
    "flag = discrete_log(a, b)\n",
    "print(long_to_bytes(flag))"
   ]
  },
  {
   "cell_type": "code",
   "execution_count": null,
   "metadata": {},
   "outputs": [],
   "source": []
  }
 ],
 "metadata": {
  "kernelspec": {
   "display_name": "SageMath 9.3",
   "language": "sage",
   "name": "sagemath"
  },
  "language_info": {
   "codemirror_mode": {
    "name": "ipython",
    "version": 3
   },
   "file_extension": ".py",
   "mimetype": "text/x-python",
   "name": "python",
   "nbconvert_exporter": "python",
   "pygments_lexer": "ipython3",
   "version": "3.7.10"
  }
 },
 "nbformat": 4,
 "nbformat_minor": 4
}
