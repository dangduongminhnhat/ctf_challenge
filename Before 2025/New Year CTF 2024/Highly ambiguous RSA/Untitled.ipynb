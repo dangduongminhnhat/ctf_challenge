{
 "cells": [
  {
   "cell_type": "code",
   "execution_count": 15,
   "metadata": {},
   "outputs": [
    {
     "name": "stdout",
     "output_type": "stream",
     "text": [
      "[571473880381706668275805033005973918901393706613731249976069954980758269267679578462292586463137, 167448911118402002309326829711708088465772050706415595231231864398896905576377227474945626540438, 737475126227271439416072092401694009983666230567008703994920125454501843537880670229283162692682]\n",
      "b\"\\xde\\x12%\\xab\\x9a\\xfa=\\xe8vhA\\xe1\\xcf\\xf0tA\\x80\\xa3{J'PeK!\\xc6\\xd7cWL\\x13U62\\xf7\\xdc\\x9f!\\xbd\\xd6\"\n",
      "b'grodno{This_1s_n0t_a_f@k3_fl@g}'\n"
     ]
    }
   ],
   "source": [
    "from Crypto.Util.number import long_to_bytes\n",
    "n1 = 1852892720062887225761965098961519184717028045747184821229381416690649150175077469195015762879827\n",
    "e1 = 18712\n",
    "n2 = 1684786560529453911475754845780536300328197792513126663487817526891350560429162837595257498214731\n",
    "e2 = 17656\n",
    "n3 = 1476397917727380110001203955119376017350831987887155549202221944834157018381937476166521375696257\n",
    "e3 = 19407\n",
    "c  = 611696235674033015624831923566847674953519491228623379258607782032635868791588102056975818050929\n",
    "\n",
    "K = GF(n3)\n",
    "c = K(c)\n",
    "c = c.nth_root(e3, all=True)\n",
    "print(c)\n",
    "\n",
    "arr = []\n",
    "K = GF(n2)\n",
    "for i in c:\n",
    "    i = K(i)\n",
    "    arr += i.nth_root(e2, all=True)\n",
    "    \n",
    "arr2 = []\n",
    "K = GF(n1)\n",
    "for i in arr:\n",
    "    i = K(i)\n",
    "    arr2 += i.nth_root(e1, all=True)\n",
    "\n",
    "for i in arr2:\n",
    "    print(long_to_bytes(int(i)))"
   ]
  },
  {
   "cell_type": "code",
   "execution_count": null,
   "metadata": {},
   "outputs": [],
   "source": []
  }
 ],
 "metadata": {
  "kernelspec": {
   "display_name": "SageMath 9.3",
   "language": "sage",
   "name": "sagemath"
  },
  "language_info": {
   "codemirror_mode": {
    "name": "ipython",
    "version": 3
   },
   "file_extension": ".py",
   "mimetype": "text/x-python",
   "name": "python",
   "nbconvert_exporter": "python",
   "pygments_lexer": "ipython3",
   "version": "3.7.10"
  }
 },
 "nbformat": 4,
 "nbformat_minor": 4
}
