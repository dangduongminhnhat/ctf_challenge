{
 "cells": [
  {
   "cell_type": "code",
   "execution_count": 43,
   "metadata": {
    "scrolled": true
   },
   "outputs": [
    {
     "name": "stdout",
     "output_type": "stream",
     "text": [
      "b'osu{w0uld_y0u_l1k3_f1r5t_0r_53c0nd_p1ck}\\x08\\x08\\x08\\x08\\x08\\x08\\x08\\x08'\n"
     ]
    }
   ],
   "source": [
    "from Crypto.Util.number import inverse\n",
    "from math import floor\n",
    "from Crypto.Cipher import AES\n",
    "\n",
    "p = 4420073644184861649599\n",
    "a = 1144993629389611207194\n",
    "b = 3504184699413397958941\n",
    "out = [39, 47, 95, 1, 77, 89, 77, 70, 99, 23, 44, 38, 87, 34, 99, 42, 10, 67, 24, 3, 2, 80, 26, 87, 91, 86, 1, 71, 59, 97, 69, 31, 17, 91, 73, 78, 43, 18, 15, 46, 22, 68, 98, 60, 98, 17, 53, 13, 6, 13, 19, 50, 73, 44, 7, 44, 3, 5, 80, 26, 10, 55, 27, 47, 72, 80, 53, 2, 40, 64, 55, 6]\n",
    "encrypted = \"34daaa9f7773d7ea4d5f96ef3dab1bbf5584ecec9f0542bbee0c92130721d925f40b175e50587196874e14332460257b\"\n",
    "\n",
    "size = len(out)\n",
    "B = 2 ** 66\n",
    "inv_100 = inverse(100, p)\n",
    "inv_a1 = inverse(a - 1, p)\n",
    "\n",
    "M = Matrix(QQ, size + 2, size + 2)\n",
    "for i in range(size):\n",
    "    M[i, i] = p\n",
    "for i in range(size):\n",
    "    M[size, i] = pow(a, i + 1, p) * inv_100 % p\n",
    "    M[size + 1, i] = (out[i] * inv_100 - b * (a ** (i + 1) - 1) * inv_a1 * inv_100) % p\n",
    "M[size, size] = QQ(B/p)\n",
    "M[size + 1, size + 1] = B\n",
    "A = M.LLL()\n",
    "# for i in range(size + 2):\n",
    "#     if A[i, size + 1] == B or A[i, size + 1] == -B:\n",
    "#         print(i, A[i, size + 1], A[i, size])\n",
    "seed = (53765932436314634507284602211246379368448 * inverse(B, p)) % p\n",
    "\n",
    "def lcg(s, a, b, p):\n",
    "    return (a * s + b) % p\n",
    "\n",
    "def get_roll():\n",
    "    global seed\n",
    "    seed = lcg(seed, a, b, p)\n",
    "    return seed % 100\n",
    "\n",
    "\n",
    "for i in range(floor(72.7)):\n",
    "    num = get_roll()\n",
    "    assert num == out[i]\n",
    "\n",
    "key = bytes([get_roll() for _ in range(16)])\n",
    "iv = bytes([get_roll() for _ in range(16)])\n",
    "cipher = AES.new(key, AES.MODE_CBC, iv)\n",
    "print(cipher.decrypt(bytes.fromhex(encrypted)))"
   ]
  },
  {
   "cell_type": "code",
   "execution_count": null,
   "metadata": {},
   "outputs": [],
   "source": []
  }
 ],
 "metadata": {
  "kernelspec": {
   "display_name": "SageMath 9.3",
   "language": "sage",
   "name": "sagemath"
  },
  "language_info": {
   "codemirror_mode": {
    "name": "ipython",
    "version": 3
   },
   "file_extension": ".py",
   "mimetype": "text/x-python",
   "name": "python",
   "nbconvert_exporter": "python",
   "pygments_lexer": "ipython3",
   "version": "3.7.10"
  }
 },
 "nbformat": 4,
 "nbformat_minor": 4
}
