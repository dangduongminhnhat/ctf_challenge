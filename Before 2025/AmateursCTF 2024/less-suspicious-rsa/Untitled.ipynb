{
 "cells": [
  {
   "cell_type": "code",
   "execution_count": 35,
   "metadata": {},
   "outputs": [
    {
     "name": "stdout",
     "output_type": "stream",
     "text": [
      "b\"amateursCTF{here's_the_flag_you_requested!}\"\n"
     ]
    }
   ],
   "source": [
    "from Crypto.Util.number import *\n",
    "\n",
    "def factorial(n):\n",
    "    if n == 0:\n",
    "        return 1\n",
    "    return factorial(n-1) * n\n",
    "\n",
    "N = 138963980427736364646203557164328211078134463518489686365728312873583832517087170768576679472472907142081360480944201759920246566585465801088226164314480607014663211599932950864391702460227584467326051919881067028851940610382044445003060103566003934601979805899293539507221062915314813557293919231917284247667\n",
    "e = 65537\n",
    "c = 26363325527372681448374836719361674028908733933823971039273016094221739663363697355984980560218941405351917768372297139270315950803631724328547161889191685480725185971092638691575587334307068143724069148715129866085595445974433311000459043513392513632639058879350662222598941781017396217632160254074487773693\n",
    "factor_90 = factorial(90)\n",
    "p0 = N % factor_90\n",
    "\n",
    "# A = Matrix(QQ, [[p0 - N, 1, 0, 0], [factor_90 * p0, 0, 1, 0], [factor_90, 0, 0, 1], [factor_90 ** 2, 0, 0, 0]])\n",
    "# M = A.LLL()\n",
    "# print(M)\n",
    "\n",
    "b = 8400642479283129\n",
    "a = 7494077210701243\n",
    "p = a * factor_90 + p0\n",
    "q = b * factor_90 + 1\n",
    "phi = (p - 1) * (q - 1)\n",
    "d = inverse(e, phi)\n",
    "print(long_to_bytes(int(pow(c, d, N))))"
   ]
  },
  {
   "cell_type": "code",
   "execution_count": null,
   "metadata": {},
   "outputs": [],
   "source": []
  }
 ],
 "metadata": {
  "kernelspec": {
   "display_name": "SageMath 9.3",
   "language": "sage",
   "name": "sagemath"
  },
  "language_info": {
   "codemirror_mode": {
    "name": "ipython",
    "version": 3
   },
   "file_extension": ".py",
   "mimetype": "text/x-python",
   "name": "python",
   "nbconvert_exporter": "python",
   "pygments_lexer": "ipython3",
   "version": "3.7.10"
  }
 },
 "nbformat": 4,
 "nbformat_minor": 4
}
