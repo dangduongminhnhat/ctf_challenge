{
 "cells": [
  {
   "cell_type": "code",
   "execution_count": 8,
   "metadata": {},
   "outputs": [
    {
     "name": "stdout",
     "output_type": "stream",
     "text": [
      "b'picoCTF{too_many_fact0rs_4025135}'\n"
     ]
    }
   ],
   "source": [
    "from Crypto.Util.number import long_to_bytes, inverse\n",
    "c = 32409984147951556131015887509169207840376029481595802671000424287508400230006613622242752578643482317876956200335617574643472149190961456123282536317557009933517407160475693845912916904011208951098703255683616201858617984448577782273817864282373216172718483036290819517254619644129303332913289453020236026503007909536308114663067625739160230444\n",
    "n = 65563230058094247870864413552539019602343366643540456162085136967657373039808645713322954252341849435595641395361935506703491497186426798539373400532349092127387570101522327041442297131817719066718768332530839540175315607209417028826636481972526520685086237765273495353724758064456569487523639906324443834182772759404870149865969150416079670461\n",
    "e = 65537\n",
    "arr = n.factor()\n",
    "phi = 1\n",
    "for i in range(len(arr)):\n",
    "    phi *= int(arr[i][0] - 1)\n",
    "d = inverse(e, phi)\n",
    "print(long_to_bytes(int(pow(c, d, n))))"
   ]
  },
  {
   "cell_type": "code",
   "execution_count": null,
   "metadata": {},
   "outputs": [],
   "source": []
  }
 ],
 "metadata": {
  "kernelspec": {
   "display_name": "SageMath 9.3",
   "language": "sage",
   "name": "sagemath"
  },
  "language_info": {
   "codemirror_mode": {
    "name": "ipython",
    "version": 3
   },
   "file_extension": ".py",
   "mimetype": "text/x-python",
   "name": "python",
   "nbconvert_exporter": "python",
   "pygments_lexer": "ipython3",
   "version": "3.7.10"
  }
 },
 "nbformat": 4,
 "nbformat_minor": 4
}
