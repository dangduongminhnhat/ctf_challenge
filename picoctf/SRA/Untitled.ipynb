{
 "cells": [
  {
   "cell_type": "code",
   "execution_count": 22,
   "metadata": {},
   "outputs": [
    {
     "name": "stdout",
     "output_type": "stream",
     "text": [
      "15\n",
      "b'N\\xc48\\xe4^\\x0f\\xa8\\xbd\\x15\\xbb\\xed\\x9f\\xec\\x08\\x0e\\x88\\xe90F@\"\\xf5)\\xb5\\xa3\\x18:\\xc2\\'T;n'\n",
      "b'+\\xdby\\x89\\x11\\xb1\\xfdh\\xc3\\xdb\\x88\\xc5\\xfbx\\xb0~WBU\\x17f\\x9fgxG\\xcb\\xf9\\x04\\xa0\\xf5y>'\n",
      "b'\\x879.\\xac\\xbd\\xe3\\x94<<\\xcf\\xfeQ\\x8f\\xd8\\x9c\\x86\\xec\\x11d\\xa1y\\xeb\\x99\\xcd`\\xa5\\xce0\\\\\\xdb\\x9a\\xf4'\n",
      "b'\\xd2\\x80n\\xb5Y\\x8b\\x98\\xa5\\xd3\\xdaKx\\xae\\xc1\\xa2\\xcfz\\xe9[^K\\xa6\\xd0a\\xb8\\xb0\\x8c\\x95\\xc9E#\\x89'\n",
      "b'#\\xe4\\x98\\x8bu\\xd9\\xb00\\x01\\x9aq\\xe1\\xb7\\xc0\\x87TE\\x1a\\x14\\x7f\\xca=\\x19\\xaf\\xd2\\x08\\x89~7k\\x95\\x89'\n",
      "b\"<u\\xcd\\x10\\xe2\\x8f\\xef\\xb65\\xd3[\\x14\\xfd\\xd0>\\xca\\x97\\xed\\xe3\\x9b^\\xb8gSN\\x91\\xd6\\xb2\\xe3'\\xc0\\x18\"\n",
      "b\"\\xac\\xfb\\xf1Pf\\xdd\\x0c`\\\\\\x15[\\xa3\\x11\\x04O\\t\\xb9'\\xe7(\\x89Wr\\\\\\xa8\\xe5\\xf0\\x10\\x06\\xb6\\x96\\xde\"\n",
      "b'*\\x88\\xe9\\xd0\\xda\\xf0I\\xf6\\xc7\\n\\xdc]\\x9f\\xf6`\\xcf\\x9f\\x86\\xf0`\\xe9\\x9b\\xf1fe\\xea\\x98\\x82b\\xd5X\\x8a'\n",
      "b'O\\xf9\\xab\\xee\\xd38\\xc7\\x04vd\\x9cV|3\\x18\\xfb\\xec\\xc2\\xa8\\xbc-:L\\t\\xd1\\xdd\\r\\xaa|\\xc7\\xc6@'\n",
      "b'O\\xf9\\xab\\xee\\xd38\\xc7\\x04vd\\x9cV|3\\x18\\xfb\\xec\\xc2\\xa8\\xbc-:L\\t\\xd1\\xdd\\r\\xaa|\\xc7\\xc6@'\n",
      "b'\\\\EK+\\x0e3\\x12\\xc4\\xbb\\x84>\\x08\\xabeb\\xfd\\x01\\xbc\\x0f\\xe0\\xeb-\\x8b\\xe7S\\x01\\xad46z\\x872'\n",
      "b'\\\\EK+\\x0e3\\x12\\xc4\\xbb\\x84>\\x08\\xabeb\\xfd\\x01\\xbc\\x0f\\xe0\\xeb-\\x8b\\xe7S\\x01\\xad46z\\x872'\n",
      "b'8ip77mDQFakBNtGb'\n",
      "b'8ip77mDQFakBNtGb'\n",
      "b'\\x07\\xe4\\x7f\\t~\\x93)\\xdc\\x830*\\xbcB=\\x97\\xd7f:\\x1aLb\\xdc\\xad\\xcbv\\xd7\\x10c\\x99`\\xa8\\xe1'\n",
      "b'\\x07\\xe4\\x7f\\t~\\x93)\\xdc\\x830*\\xbcB=\\x97\\xd7f:\\x1aLb\\xdc\\xad\\xcbv\\xd7\\x10c\\x99`\\xa8\\xe1'\n",
      "b'J,\\x92\\xc4\\xd5\\xef\\xf0\\xe9\\xdf\\n\\x02F\\xf5\\xb4L\\xe6\\xdc\\xf7\\xe7n\\x1a\\x91\\xc1\\xd7\\xe9\\nM}\\xfb\\x15`='\n",
      "b'\\x17\"\\xd1ai\\x82\\x89\\xd9\\xce\\xa9\\x19\\xdee\\x85\\xbc\\x0fQ$\\x8c\\xd4\\x19+\\x9fJz\\x9c\\x89\\xf6B\\x94\\x1d\\x13'\n",
      "b'\\x17\"\\xd1ai\\x82\\x89\\xd9\\xce\\xa9\\x19\\xdee\\x85\\xbc\\x0fQ$\\x8c\\xd4\\x19+\\x9fJz\\x9c\\x89\\xf6B\\x94\\x1d\\x13'\n",
      "done\n"
     ]
    }
   ],
   "source": [
    "from Crypto.Util.number import getPrime, inverse, bytes_to_long, isPrime, long_to_bytes\n",
    "anger = 28970064817496326762165418287109753504325750279418207434598399256999736491803\n",
    "envy = 36246142447811343185831613824315080232787969523437554523417478582490573888813\n",
    "sloth = 65537\n",
    "phi = sloth * envy - 1\n",
    "div = divisors(phi)\n",
    "\n",
    "size = len(bin(phi)) - 2\n",
    "size_k = size - 256\n",
    "print(size_k)\n",
    "arr_k = []\n",
    "for i in div:\n",
    "    if i.nbits() == size_k or i.nbits() == size_k + 1:\n",
    "        arr_k.append(i)\n",
    "for k in arr_k:\n",
    "    ph = phi // k\n",
    "    pq = divisors(ph)\n",
    "    for p_1 in pq:\n",
    "        p = p_1 + 1\n",
    "        if p >= 2 ** 127 and p < 2 ** 128 and is_prime(p):\n",
    "            q = ph // p_1 + 1\n",
    "            if is_prime(q):\n",
    "                print(long_to_bytes(int(pow(anger, envy, p * q))))\n",
    "print(\"done\")"
   ]
  },
  {
   "cell_type": "code",
   "execution_count": null,
   "metadata": {},
   "outputs": [],
   "source": []
  }
 ],
 "metadata": {
  "kernelspec": {
   "display_name": "SageMath 9.3",
   "language": "sage",
   "name": "sagemath"
  },
  "language_info": {
   "codemirror_mode": {
    "name": "ipython",
    "version": 3
   },
   "file_extension": ".py",
   "mimetype": "text/x-python",
   "name": "python",
   "nbconvert_exporter": "python",
   "pygments_lexer": "ipython3",
   "version": "3.7.10"
  }
 },
 "nbformat": 4,
 "nbformat_minor": 4
}
