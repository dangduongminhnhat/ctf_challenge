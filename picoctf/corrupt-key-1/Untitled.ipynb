{
 "cells": [
  {
   "cell_type": "code",
   "execution_count": 16,
   "metadata": {},
   "outputs": [
    {
     "name": "stdout",
     "output_type": "stream",
     "text": [
      "12098520864598198757294135341465388062087431109285224283440314414683283061468500249596026217234382854875647811812632201834942205849073893715844547051090363\n"
     ]
    }
   ],
   "source": [
    "# openssl rsa -text < CTF_Challenge/picoctf/corrupt-key-1/private.key\n",
    "def small_roots(f, X, beta=1.0, m=None):\n",
    "    N = f.parent().characteristic()\n",
    "    delta = f.degree()\n",
    "    if m is None:\n",
    "        epsilon = RR(beta^2/f.degree() - log(2*X, N))\n",
    "        m = max(beta**2/(delta * epsilon), 7*beta/delta).ceil()\n",
    "    t = int((delta*m*(1/beta - 1)).floor())\n",
    "    \n",
    "    f = f.monic().change_ring(ZZ)\n",
    "    P,(x,) = f.parent().objgens()\n",
    "    g  = [x**j * N**(m-i) * f**i for i in range(m) for j in range(delta)]\n",
    "    g.extend([x**i * f**m for i in range(t)]) \n",
    "    B = Matrix(ZZ, len(g), delta*m + max(delta,t))\n",
    "\n",
    "    for i in range(B.nrows()):\n",
    "        for j in range(g[i].degree()+1):\n",
    "            B[i,j] = g[i][j]*X**j\n",
    "\n",
    "    B =  B.LLL()\n",
    "    f = sum([ZZ(B[0,i]//X**i)*x**i for i in range(B.ncols())])\n",
    "    roots = set([f.base_ring()(r) for r,m in f.roots() if abs(r) <= X])\n",
    "    return [root for root in roots if N.gcd(ZZ(f(root))) >= N**beta]\n",
    "\n",
    "def recover(p_high, n, m):\n",
    "        p_bits = (len(bin(n))-2)//2\n",
    "        p_high_bits = len(bin(p_high)) - 2\n",
    "        PR.<x> = PolynomialRing(Zmod(n))\n",
    "        f = p_high * 2**(p_bits-p_high_bits) + x\n",
    "        x = small_roots(f, X=2**(p_bits-p_high_bits), beta=0.4, m=m)\n",
    "        if x == []:\n",
    "                return None\n",
    "        p = int(f(x[0]))\n",
    "        return p\n",
    "\n",
    "def solve(_p_high, bits, m):\n",
    "    for x in range(2**bits, -1, -1):\n",
    "        _p = _p_high + x * 2**(256-bits)\n",
    "        p_high = int(bin(_p)[:256+bits+2], 2)\n",
    "        p = recover(p_high, n, m)\n",
    "        if p is not None:\n",
    "            return p\n",
    "\n",
    "mod = \"\"\"00:b8:cb:1c:ca:99:b6:ac:41:87:6c:18:84:57:32:a5:cb:fc:87:5d:f3:46:ee:90:02:ce:60:85:08:b5:fc:f6:b6:0a:5a:c7:72:2a:2d:64:ef:74:e1:44:3a:33:8e:70:a7:3e:63:a3:03:f3:ac:9a:df:19:85:95:69:9f:6e:9f:30:c0:09:d2:19:c7:d9:8c:4e:c8:42:03:61:08:34:02:9c:79:56:7e:fc:08:f6:6b:4b:c3:f5:64:bf:b5:71:54:6a:06:b7:e4:8f:b3:5b:b9:cc:ea:9a:2c:d4:43:49:f8:29:24:20:78:df:a6:4d:52:59:27:bf:d5:5d:09:9c:02:4f\"\"\"\n",
    "mod = \"\".join(mod.split(\":\"))\n",
    "N = int(mod, 16)\n",
    "e = 65537\n",
    "p = \"00:e7:00:56:8f:f5:06:bd:58:92:af:92:59:21:25:e0:6c:be:9b:d4:5d:fe:af:e9:31:a3:33:c1:34:63:02:3d:4f:00:00:00:00:00:00:00:00:00:00:00:00:00:00:00:00:00:00:00:00:00:00:00:00:00:00:00:00:00:00:00:00\"\n",
    "p = \"\".join(p.split(\":\"))\n",
    "p_high = int(p, 16)\n",
    "\n",
    "p = solve(p_high, 7, 18)\n",
    "print(p)"
   ]
  },
  {
   "cell_type": "code",
   "execution_count": null,
   "metadata": {},
   "outputs": [],
   "source": []
  }
 ],
 "metadata": {
  "kernelspec": {
   "display_name": "SageMath 9.3",
   "language": "sage",
   "name": "sagemath"
  },
  "language_info": {
   "codemirror_mode": {
    "name": "ipython",
    "version": 3
   },
   "file_extension": ".py",
   "mimetype": "text/x-python",
   "name": "python",
   "nbconvert_exporter": "python",
   "pygments_lexer": "ipython3",
   "version": "3.7.10"
  }
 },
 "nbformat": 4,
 "nbformat_minor": 4
}
