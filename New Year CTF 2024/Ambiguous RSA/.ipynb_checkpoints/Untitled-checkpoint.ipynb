{
 "cells": [
  {
   "cell_type": "code",
   "execution_count": 32,
   "metadata": {},
   "outputs": [
    {
     "ename": "TypeError",
     "evalue": "unsupported operand type(s) for &: 'sage.rings.finite_rings.integer_mod.IntegerMod_gmp' and 'int'",
     "output_type": "error",
     "traceback": [
      "\u001b[0;31m---------------------------------------------------------------------------\u001b[0m",
      "\u001b[0;31mTypeError\u001b[0m                                 Traceback (most recent call last)",
      "\u001b[0;32m<ipython-input-32-26c9a4ac460c>\u001b[0m in \u001b[0;36m<module>\u001b[0;34m\u001b[0m\n\u001b[1;32m     49\u001b[0m \u001b[0mans\u001b[0m \u001b[0;34m=\u001b[0m \u001b[0mnth_root\u001b[0m\u001b[0;34m(\u001b[0m\u001b[0mc\u001b[0m\u001b[0;34m,\u001b[0m \u001b[0me\u001b[0m\u001b[0;34m,\u001b[0m \u001b[0mall\u001b[0m\u001b[0;34m=\u001b[0m\u001b[0;32mTrue\u001b[0m\u001b[0;34m)\u001b[0m\u001b[0;34m\u001b[0m\u001b[0;34m\u001b[0m\u001b[0m\n\u001b[1;32m     50\u001b[0m \u001b[0;32mfor\u001b[0m \u001b[0mi\u001b[0m \u001b[0;32min\u001b[0m \u001b[0mans\u001b[0m\u001b[0;34m:\u001b[0m\u001b[0;34m\u001b[0m\u001b[0;34m\u001b[0m\u001b[0m\n\u001b[0;32m---> 51\u001b[0;31m     \u001b[0mprint\u001b[0m\u001b[0;34m(\u001b[0m\u001b[0mlong_to_bytes\u001b[0m\u001b[0;34m(\u001b[0m\u001b[0mi\u001b[0m\u001b[0;34m)\u001b[0m\u001b[0;34m)\u001b[0m\u001b[0;34m\u001b[0m\u001b[0;34m\u001b[0m\u001b[0m\n\u001b[0m",
      "\u001b[0;32m/opt/sagemath-9.3/local/lib/python3.7/site-packages/Crypto/Util/number.py\u001b[0m in \u001b[0;36mlong_to_bytes\u001b[0;34m(n, blocksize)\u001b[0m\n\u001b[1;32m    461\u001b[0m         \u001b[0;31m# The encoded number exceeds the block size\u001b[0m\u001b[0;34m\u001b[0m\u001b[0;34m\u001b[0m\u001b[0;34m\u001b[0m\u001b[0m\n\u001b[1;32m    462\u001b[0m         \u001b[0;32mwhile\u001b[0m \u001b[0mn\u001b[0m \u001b[0;34m>\u001b[0m \u001b[0;36m0\u001b[0m\u001b[0;34m:\u001b[0m\u001b[0;34m\u001b[0m\u001b[0;34m\u001b[0m\u001b[0m\n\u001b[0;32m--> 463\u001b[0;31m             \u001b[0mresult\u001b[0m\u001b[0;34m.\u001b[0m\u001b[0minsert\u001b[0m\u001b[0;34m(\u001b[0m\u001b[0;36m0\u001b[0m\u001b[0;34m,\u001b[0m \u001b[0mpack\u001b[0m\u001b[0;34m(\u001b[0m\u001b[0;34m'>Q'\u001b[0m\u001b[0;34m,\u001b[0m \u001b[0mn\u001b[0m \u001b[0;34m&\u001b[0m \u001b[0;36m0xFFFFFFFFFFFFFFFF\u001b[0m\u001b[0;34m)\u001b[0m\u001b[0;34m)\u001b[0m\u001b[0;34m\u001b[0m\u001b[0;34m\u001b[0m\u001b[0m\n\u001b[0m\u001b[1;32m    464\u001b[0m             \u001b[0mn\u001b[0m \u001b[0;34m=\u001b[0m \u001b[0mn\u001b[0m \u001b[0;34m>>\u001b[0m \u001b[0;36m64\u001b[0m\u001b[0;34m\u001b[0m\u001b[0;34m\u001b[0m\u001b[0m\n\u001b[1;32m    465\u001b[0m         \u001b[0mresult\u001b[0m\u001b[0;34m[\u001b[0m\u001b[0;36m0\u001b[0m\u001b[0;34m]\u001b[0m \u001b[0;34m=\u001b[0m \u001b[0mresult\u001b[0m\u001b[0;34m[\u001b[0m\u001b[0;36m0\u001b[0m\u001b[0;34m]\u001b[0m\u001b[0;34m.\u001b[0m\u001b[0mlstrip\u001b[0m\u001b[0;34m(\u001b[0m\u001b[0;34mb'\\x00'\u001b[0m\u001b[0;34m)\u001b[0m\u001b[0;34m\u001b[0m\u001b[0;34m\u001b[0m\u001b[0m\n",
      "\u001b[0;31mTypeError\u001b[0m: unsupported operand type(s) for &: 'sage.rings.finite_rings.integer_mod.IntegerMod_gmp' and 'int'"
     ]
    }
   ],
   "source": [
    "from Crypto.Util.number import long_to_bytes\n",
    "\n",
    "mod = 777756371658356441826729228653092499434631035305172509880322655002004039008045720787492699292349816956024214162682281707332483772214797314033060613323980372951195774893061735986175142948571861677456340554882793376078703872291302030430567132018088785535855408409110377327189973952601340410943042788508253813758310797413184518506957817440212935348105193856735320286761202181863843014473637156803666187315158578927428069529022109186345431842082598475904461332010274125796234390386163234411794022829179847776668959528434596799883850787931364114410352436664187913625065855379249496132986517948363694832630053643957898814106766253069509185062057819464868740755645906236165905410302944050073667197489707292827557882235469313758585436824941776058737561207593994338597243557274586583779294003573579715956405551983309527717168010308210474073655763532261396593836782340235001459323323874331108443898602886777412635264588171440447380273250599296164420162936894801775967062285275415331174008098445058416170315779898002726099868162629427919982038415596943715271451944958290466107472382220610122455028556516287294530657864511238573735141255147514127113474557825358554738290595478206958791661391715249798229726238533489373041633676785713548604217861\n",
    "e = 50000\n",
    "c = 277359187737258362457534632897090609560275835679907190105508305441781088814950381016117048539810699066668346328707239514247747907024858310042465519804872870468645205535199652666860215144396517509831499728224333577993959380695379150844556883688676144218513768298762581885211876375391342455796156456940548741775950266259611168974452206230570494668698573109274627591842683500384555496015872119947324253901120166868283565117432214783776347994180900043829861747583679841893145482535708198926172748189296275575298131314037764131458195690034230771810286866816955794935414105559326348029049747362599528397557590649155979645823782983966182573456965073532051120287778829594508586835614410719154415803215604015687922794249575275088281033853893589312980289714947975117796646193511911511459440764242386211925662924184898808246988788167092186489240112034940356104882149267058764103175974317576790173813320755017793253366071995395701277842820830242038217541557382036257895686016950644008318986563083604553889153070592017254562516835720872613177777139282977415232050406102429719686895830799282348962471590476649961821249207276558353697914498653389130863975927905580766179709281500497070076138657086424222192427642911863924117001924531455220929197873\n",
    "\n",
    "\n",
    "def nth_root(c, n, extend = False, all = False, algorithm = None, cunningham = False):\n",
    "    n = Integer(n)\n",
    "    p, k = mod, 1\n",
    "    return _nth_root_common(n, mod, c, all, algorithm)\n",
    "    \n",
    "    \n",
    "def _nth_root_common(power, modulus, target, all = False, algorithm = None):\n",
    "    q = modulus\n",
    "    power = power % (q-1)\n",
    "\n",
    "    gcd, alpha, beta = power.xgcd(q-1) # gcd = alpha*n + beta*(q-1), so 1/n = alpha/gcd (mod q-1)\n",
    "\n",
    "    power = gcd\n",
    "    q1overn = (q - 1) // power\n",
    "    if pow(target, q1overn, modulus) != 1:\n",
    "        if all: return []\n",
    "        else: raise ValueError(\"no nth root\")\n",
    "\n",
    "    res = pow(target, alpha, modulus)\n",
    "    F = factor(power)\n",
    "    g = Mod(2, modulus)\n",
    "    for r, v in F:\n",
    "        k, h = (q-1).val_unit(r)\n",
    "        z = h * (-h).inverse_mod(r**v)\n",
    "        x = (1 + z) // r**v\n",
    "        if k == 1:\n",
    "            res = res**x\n",
    "        else:\n",
    "            t = discrete_log(res**h, g**(r**v*h), r**(k-v), operation='*')\n",
    "            res = res**x * g**(-z*t)\n",
    "    if all:\n",
    "        nthroot = g**q1overn\n",
    "        L = [res]\n",
    "        for i in range(1,power):\n",
    "            res *= nthroot\n",
    "            L.append(res)\n",
    "        return L\n",
    "    else:\n",
    "        return res\n",
    "\n",
    "    \n",
    "ans = nth_root(c, e, all=True)\n",
    "for i in ans:\n",
    "    print(long_to_bytes(int(i)))"
   ]
  },
  {
   "cell_type": "code",
   "execution_count": null,
   "metadata": {},
   "outputs": [],
   "source": []
  }
 ],
 "metadata": {
  "kernelspec": {
   "display_name": "SageMath 9.3",
   "language": "sage",
   "name": "sagemath"
  },
  "language_info": {
   "codemirror_mode": {
    "name": "ipython",
    "version": 3
   },
   "file_extension": ".py",
   "mimetype": "text/x-python",
   "name": "python",
   "nbconvert_exporter": "python",
   "pygments_lexer": "ipython3",
   "version": "3.7.10"
  }
 },
 "nbformat": 4,
 "nbformat_minor": 4
}
